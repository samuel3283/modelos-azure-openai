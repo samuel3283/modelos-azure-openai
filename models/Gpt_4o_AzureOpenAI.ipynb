{
  "nbformat": 4,
  "nbformat_minor": 0,
  "metadata": {
    "colab": {
      "provenance": [],
      "include_colab_link": true
    },
    "kernelspec": {
      "name": "python3",
      "display_name": "Python 3"
    },
    "language_info": {
      "name": "python"
    }
  },
  "cells": [
    {
      "cell_type": "markdown",
      "metadata": {
        "id": "view-in-github",
        "colab_type": "text"
      },
      "source": [
        "<a href=\"https://colab.research.google.com/github/samuel3283/modelos-azure-openai/blob/main/models/Gpt_4o_AzureOpenAI.ipynb\" target=\"_parent\"><img src=\"https://colab.research.google.com/assets/colab-badge.svg\" alt=\"Open In Colab\"/></a>"                   
      ]
    },
    {
      "cell_type": "markdown",
      "source": [
        "### Instalar libreria de OpenAI"
      ],
      "metadata": {
        "id": "EcP3XPpLXG9R"
      }
    },
    {
      "cell_type": "code",
      "execution_count": null,
      "metadata": {
        "colab": {
          "base_uri": "https://localhost:8080/"
        },
        "id": "csl6huTIlT6H",
        "outputId": "74d55be3-ea50-41c5-bcb3-b0e82717aaed"
      },
      "outputs": [
        {
          "output_type": "stream",
          "name": "stdout",
          "text": [
            "Collecting openai\n",
            "  Downloading openai-1.13.3-py3-none-any.whl (227 kB)\n",
            "\u001b[?25l     \u001b[90m━━━━━━━━━━━━━━━━━━━━━━━━━━━━━━━━━━━━━━━━\u001b[0m \u001b[32m0.0/227.4 kB\u001b[0m \u001b[31m?\u001b[0m eta \u001b[36m-:--:--\u001b[0m\r\u001b[2K     \u001b[91m━━━━━━━━━━━━━━━━━━━━━\u001b[0m\u001b[91m╸\u001b[0m\u001b[90m━━━━━━━━━━━━━━━━━━\u001b[0m \u001b[32m122.9/227.4 kB\u001b[0m \u001b[31m3.5 MB/s\u001b[0m eta \u001b[36m0:00:01\u001b[0m\r\u001b[2K     \u001b[90m━━━━━━━━━━━━━━━━━━━━━━━━━━━━━━━━━━━━━━━━\u001b[0m \u001b[32m227.4/227.4 kB\u001b[0m \u001b[31m4.4 MB/s\u001b[0m eta \u001b[36m0:00:00\u001b[0m\n",
            "\u001b[?25hRequirement already satisfied: anyio<5,>=3.5.0 in /usr/local/lib/python3.10/dist-packages (from openai) (3.7.1)\n",
            "Requirement already satisfied: distro<2,>=1.7.0 in /usr/lib/python3/dist-packages (from openai) (1.7.0)\n",
            "Collecting httpx<1,>=0.23.0 (from openai)\n",
            "  Downloading httpx-0.27.0-py3-none-any.whl (75 kB)\n",
            "\u001b[2K     \u001b[90m━━━━━━━━━━━━━━━━━━━━━━━━━━━━━━━━━━━━━━━━\u001b[0m \u001b[32m75.6/75.6 kB\u001b[0m \u001b[31m7.3 MB/s\u001b[0m eta \u001b[36m0:00:00\u001b[0m\n",
            "\u001b[?25hRequirement already satisfied: pydantic<3,>=1.9.0 in /usr/local/lib/python3.10/dist-packages (from openai) (2.6.3)\n",
            "Requirement already satisfied: sniffio in /usr/local/lib/python3.10/dist-packages (from openai) (1.3.1)\n",
            "Requirement already satisfied: tqdm>4 in /usr/local/lib/python3.10/dist-packages (from openai) (4.66.2)\n",
            "Requirement already satisfied: typing-extensions<5,>=4.7 in /usr/local/lib/python3.10/dist-packages (from openai) (4.10.0)\n",
            "Requirement already satisfied: idna>=2.8 in /usr/local/lib/python3.10/dist-packages (from anyio<5,>=3.5.0->openai) (3.6)\n",
            "Requirement already satisfied: exceptiongroup in /usr/local/lib/python3.10/dist-packages (from anyio<5,>=3.5.0->openai) (1.2.0)\n",
            "Requirement already satisfied: certifi in /usr/local/lib/python3.10/dist-packages (from httpx<1,>=0.23.0->openai) (2024.2.2)\n",
            "Collecting httpcore==1.* (from httpx<1,>=0.23.0->openai)\n",
            "  Downloading httpcore-1.0.4-py3-none-any.whl (77 kB)\n",
            "\u001b[2K     \u001b[90m━━━━━━━━━━━━━━━━━━━━━━━━━━━━━━━━━━━━━━━━\u001b[0m \u001b[32m77.8/77.8 kB\u001b[0m \u001b[31m7.5 MB/s\u001b[0m eta \u001b[36m0:00:00\u001b[0m\n",
            "\u001b[?25hCollecting h11<0.15,>=0.13 (from httpcore==1.*->httpx<1,>=0.23.0->openai)\n",
            "  Downloading h11-0.14.0-py3-none-any.whl (58 kB)\n",
            "\u001b[2K     \u001b[90m━━━━━━━━━━━━━━━━━━━━━━━━━━━━━━━━━━━━━━━━\u001b[0m \u001b[32m58.3/58.3 kB\u001b[0m \u001b[31m6.9 MB/s\u001b[0m eta \u001b[36m0:00:00\u001b[0m\n",
            "\u001b[?25hRequirement already satisfied: annotated-types>=0.4.0 in /usr/local/lib/python3.10/dist-packages (from pydantic<3,>=1.9.0->openai) (0.6.0)\n",
            "Requirement already satisfied: pydantic-core==2.16.3 in /usr/local/lib/python3.10/dist-packages (from pydantic<3,>=1.9.0->openai) (2.16.3)\n",
            "Installing collected packages: h11, httpcore, httpx, openai\n",
            "Successfully installed h11-0.14.0 httpcore-1.0.4 httpx-0.27.0 openai-1.13.3\n"
          ]
        }
      ],
      "source": [
        "!pip install openai"
      ]
    },
    {
      "cell_type": "markdown",
      "source": [
        "### Variables de Entorno"
      ],
      "metadata": {
        "id": "x21Pdk3vXQ2o"
      }
    },
    {
      "cell_type": "code",
      "source": [
        "import getpass\n",
        "import os\n",
        "import numpy as np\n",
        "import pandas as pd\n",
        "from openai import AzureOpenAI"
      ],
      "metadata": {
        "id": "SvDDC_jgln_t"
      },
      "execution_count": null,
      "outputs": []
    },
    {
      "cell_type": "code",
      "source": [
        "os.environ[\"AZURE_OPENAI_API_KEY\"] = getpass.getpass()"
      ],
      "metadata": {
        "colab": {
          "base_uri": "https://localhost:8080/"
        },
        "id": "Aazefo8IWUKQ",
        "outputId": "a5e53352-ce53-422d-94ad-3496db36bab4"
      },
      "execution_count": null,
      "outputs": [
        {
          "name": "stdout",
          "output_type": "stream",
          "text": [
            "··········\n"
          ]
        }
      ]
    },
    {
      "cell_type": "code",
      "source": [
        "os.environ[\"AZURE_OPENAI_ENDPOINT\"] = getpass.getpass()"
      ],
      "metadata": {
        "colab": {
          "base_uri": "https://localhost:8080/"
        },
        "id": "k-FfKMJxWaM1",
        "outputId": "4331bc47-bdb4-4854-f2f2-710b94d6f8da"
      },
      "execution_count": null,
      "outputs": [
        {
          "name": "stdout",
          "output_type": "stream",
          "text": [
            "··········\n"
          ]
        }
      ]
    },
    {
      "cell_type": "markdown",
      "source": [
        "## Microsoft Azure - OpenAI"
      ],
      "metadata": {
        "id": "Qg2I94sfq7So"
      }
    },
    {
      "cell_type": "markdown",
      "source": [
        "### Function analizar_inventario"
      ],
      "metadata": {
        "id": "-GkAw6evRIBQ"
      }
    },
    {
      "cell_type": "code",
      "source": [
        "from openai import AzureOpenAI\n",
        "import os\n",
        "import pandas as pd\n",
        "import base64\n",		
        "\n",
        "def analizar_inventario(imagen_path):\n",
		
        "    deployment=\"gpt-4o\"\n",
        "    client = AzureOpenAI(\n",
        "      api_key=os.environ[\"AZURE_OPENAI_API_KEY\"],\n",
        "      azure_endpoint=os.environ[\"AZURE_OPENAI_ENDPOINT\"],\n",
        "      azure_deployment=deployment,\n",
        "      api_version=\"2025-01-01-preview\",\n",
        "    )\n",		
        "    response = {}\n",
        "    with open(imagen_path, \"rb\") as f:\n",
        "        base64_image_str = base64.b64encode(f.read()).decode(\"utf-8\")\n",
        "        mime_type = \"image/png\"\n",
        "        data_url = f\"data:{mime_type};base64,{base64_image_str}\"\n",
        "        messages=[\n",
        "          {\n",
        "              \"role\": \"system\",\n",
        "              \"content\": [\n",
        "                  {\n",
        "                      \"type\": \"text\",\n",
        "                      \"text\": \"Eres un asistente que analiza inventario en imágenes. Devuelve SOLO JSON válido.\"\n",
        "                  }\n",
        "              ]\n",
        "          },\n",
        "          {\n",
        "              \"role\": \"user\",\n",
        "              \"content\": [\n",
        "                  {\n",
        "                      \"type\": \"text\",\n",
        "                      \"text\": \"Lista todos los productos en este stand, el objeto products y la lista con los campos name, level, quantity, price. El stand tiene 4 niveles.\"\n",
        "                  },\n",
        "                  {\n",
        "                      \"type\": \"image_url\",\n",
        "                      \"image_url\": {\n",
        "                          \"url\": data_url\n",
        "                      }\n",
        "                  }\n",
        "              ]\n",
        "          }\n",
        "        ]\n",
        "        completion = client.chat.completions.create(\n",
        "            model=deployment,\n",
        "            messages=messages,\n",
        "            max_tokens=1638,\n",
        "            temperature=0.7,\n",
        "            top_p=0.95,\n",
        "            frequency_penalty=0,\n",
        "            presence_penalty=0,\n",
        "            stop=None,\n",
        "            stream=False\n",
        "        )\n",
        "        #response=completion.to_json()\n",
        "        response=completion.choices[0].message.content\n",
        "    return response\n",
        "\n",
        "\n",
        "# Procesar varias imágenes\n",
        "imagenes = [\"/content/bodega2.png\"]\n",
        "inventario_detectado = []\n",
        "\n",
        "resultado={}\n",
        "for img in imagenes:\n",
        "    resultado = analizar_inventario(img)\n",
        "    print(f\" Inventario en {img}:\")\n",
        "    print(resultado)\n",
        "    inventario_detectado.append(resultado)\n",
        "\n"
      ],
      "metadata": {
        "colab": {
          "base_uri": "https://localhost:8080/"
        },
        "id": "xWFv1cpURLx3",
        "outputId": "3cd10830-03d8-4265-d022-6298c1b19335"
      },
      "execution_count": null,
      "outputs": [
        {
          "output_type": "stream",
          "name": "stdout",
          "text": [
            " Inventario en \n"
          ]
        }
      ]
    },
    {
      "cell_type": "markdown",
      "source": [
        "### Function mostrar resultados."
      ],
      "metadata": {
        "id": "-GkAw6evRIBR"
      }
    },
    {
      "cell_type": "code",
      "source": [
        "from tabulate import tabulate\n",
        "import json\n",
        "import re\n",
        "\n",
        "def mostrar_tabla_inventario(resultado):\n",
        "    headers = [\"Nombre\", \"Nivel\", \"Cantidad\", \"Precio Unitario\"]\n",
        "    tabla = []\n",
        "\n",
        "    cleaned = re.sub(r\"```json\", \"\", resultado.strip())\n",
        "    cleaned = re.sub(r\"```\", \"\", cleaned.strip())\n",
        "\n",
        "    try:\n",
        "        data = json.loads(cleaned)\n",
        "    except json.JSONDecodeError as e:\n",
        print(\"Error al decodificar JSON:\", e)\n",
        return\n",
        "\n",		
        "    for producto in resultado.get(\"products\", []):\n",
        "        nombre = producto[\"name\"]\n",
        "        nivel = producto[\"level\"]\n",
        "        cantidad = producto[\"quantity\"]\n",
        "        precio = producto[\"price\"]\n",
        "\n",
        "        tabla.append([nombre, nivel, cantidad, f\"${precio:.2f}\"])\n",
        "\n",
        "    print(tabulate(tabla, headers=headers, tablefmt=\"fancy_grid\"))\n",
        "\n",
        "mostrar_tabla_inventario(resultado)\n",
        "\n"
      ],
      "metadata": {
        "colab": {
          "base_uri": "https://localhost:8080/"
        },
        "id": "xWFv1cpURLe4",
        "outputId": "3cd10830-03d8-4265-d022-6298c1b19335"
      },
      "execution_count": null,
      "outputs": [
        {
          "output_type": "stream",
          "name": "stdout",
          "text": [
            " Resultados \n"
          ]
        }
      ]
    }	
  ]
}
