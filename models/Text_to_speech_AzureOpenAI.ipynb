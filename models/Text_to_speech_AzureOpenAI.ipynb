{
  "nbformat": 4,
  "nbformat_minor": 0,
  "metadata": {
    "colab": {
      "provenance": [],
      "authorship_tag": "ABX9TyP/rTBrn9wevvbmciKa3f9T",
      "include_colab_link": true
    },
    "kernelspec": {
      "name": "python3",
      "display_name": "Python 3"
    },
    "language_info": {
      "name": "python"
    }
  },
  "cells": [
    {
      "cell_type": "markdown",
      "metadata": {
        "id": "view-in-github",
        "colab_type": "text"
      },
      "source": [
        "<a href=\"https://colab.research.google.com/github/alarcon7a/openai-text-to-speech/blob/main/OpenAI_text_to_speech.ipynb\" target=\"_parent\"><img src=\"https://colab.research.google.com/assets/colab-badge.svg\" alt=\"Open In Colab\"/></a>"
      ]
    },
    {
      "cell_type": "code",
      "execution_count": null,
      "metadata": {
        "id": "9wtjGvqAqgnw"
      },
      "outputs": [],
      "source": [
        "!pip install -q -U openai"
      ]
    },
    {
      "cell_type": "code",
      "source": [
        "from pathlib import Path\n",
        "from openai import OpenAI\n",
        "import os\n",
        "from getpass import getpass\n",
        "import IPython"
      ],
      "metadata": {
        "id": "xcuZUqmXq3Sx"
      },
      "execution_count": null,
      "outputs": []
    },
    {
      "cell_type": "code",
      "source": [
        "OPENAI_API_KEY = getpass('Enter the secret value: ')\n",
        "os.environ[\"OPENAI_API_KEY\"] = OPENAI_API_KEY"
      ],
      "metadata": {
        "id": "z1-m6SwfqwF6"
      },
      "execution_count": null,
      "outputs": []
    },
    {
      "cell_type": "code",
      "source": [
        "import warnings\n",
        "warnings.filterwarnings(\"ignore\", category=DeprecationWarning)"
      ],
      "metadata": {
        "id": "4MI3ecBDvEjv"
      },
      "execution_count": null,
      "outputs": []
    },
    {
      "cell_type": "code",
      "source": [
        "client = OpenAI()"
      ],
      "metadata": {
        "id": "dFZPJXPDxGIx"
      },
      "execution_count": null,
      "outputs": []
    },
    {
      "cell_type": "code",
      "source": [
        "speech_file_path = Path('content').parent / \"speech-hd.mp3\"\n",
        "response = client.audio.speech.create(\n",
        "  model='tts-1-hd',#\"tts-1\",\n",
        "  voice=\"alloy\",\n",
        "  input=\"Suscribete en el canal para apoyar la creacion de contenido tecnico\"\n",
        ")\n",
        "\n",
        "response.stream_to_file(speech_file_path)"
      ],
      "metadata": {
        "id": "iOEFbfJkrEXa"
      },
      "execution_count": null,
      "outputs": []
    },
    {
      "cell_type": "code",
      "source": [
        "IPython.display.Audio(\"/content/speech-hd.mp3\")"
      ],
      "metadata": {
        "id": "0Sl4pZdKz6Fq"
      },
      "execution_count": null,
      "outputs": []
    },
    {
      "cell_type": "markdown",
      "source": [
        "## **Voices:** alloy, echo, fable, onyx, nova, and shimmer"
      ],
      "metadata": {
        "id": "Y4TVCtvSxgP2"
      }
    },
    {
      "cell_type": "code",
      "source": [
        "speech_file_path = Path('content').parent / \"fable.mp3\"\n",
        "response = client.audio.speech.create(\n",
        "  model='tts-1',\n",
        "  voice=\"fable\",\n",
        "  input=\"Suscribete en el canal para apoyar la creacion de contenido tecnico\"\n",
        ")\n",
        "\n",
        "response.stream_to_file(speech_file_path)"
      ],
      "metadata": {
        "id": "24z1HT5IrTOz"
      },
      "execution_count": null,
      "outputs": []
    },
    {
      "cell_type": "code",
      "source": [
        "IPython.display.Audio(\"/content/fable.mp3\")"
      ],
      "metadata": {
        "id": "sgzOlleGrTMM"
      },
      "execution_count": null,
      "outputs": []
    },
    {
      "cell_type": "markdown",
      "source": [
        "### Input: maximum length is 4096 characters."
      ],
      "metadata": {
        "id": "45gKl2ba0MNL"
      }
    },
    {
      "cell_type": "code",
      "source": [
        "Texto = \"\"\"Cuando yo tenía seis años, vi en un libro sobre la selva virgen que se titulaba\n",
        "Historias vividas, una magnífica lámina. Representaba una serpiente boa que se\n",
        "tragaba a una fiera. Ésta es la copia del dibujo.\n",
        "\n",
        "En el libro se afirmaba: «La serpiente boa se traga su presa entera, sin\n",
        "masticarla. Luego ya no puede moverse y duerme durante los seis meses que dura\n",
        "su digestión».\n",
        "\n",
        "Reflexioné mucho en ese momento sobre las aventuras de la jungla y a mi\n",
        "vez logré trazar con un lápiz de colores mi primer dibujo. Mi dibujo número 1 era\n",
        "de esta manera:\n",
        "Enseñé mi obra de arte a las personas mayores y les pregunté si mi dibujo\n",
        "les daba miedo.\n",
        "\n",
        "—¿Por qué habría de asustar un sombrero? —me respondieron.\n",
        "Mi dibujo no representaba un sombrero. Representaba una serpiente boa\n",
        "que digiere un elefante. Dibujé entonces el interior de la serpiente boa a fin de que\n",
        "las personas mayores pudieran comprender. Siempre estas personas tienen\n",
        "necesidad de explicaciones. Mi dibujo número 2 era así:\n",
        "Las personas mayores me aconsejaron abandonar el dibujo de serpientes\n",
        "boas, ya fueran abiertas o cerradas, y poner más interés en la geografía, la historia,\n",
        "el cálculo y la gramática. De esta manera a la edad de seis años abandoné una\n",
        "magnífica carrera de pintor. Había quedado desilusionado por el fracaso de mis\n",
        "dibujos número 1 y número 2. Las personas mayores nunca pueden comprender\n",
        "algo por sí solas y es muy aburrido para los niños tener que darles una y otra vez\n",
        "explicaciones.\n",
        "\n",
        "Tuve, pues, que elegir otro oficio y aprendí a pilotar aviones. He volado un\n",
        "poco por todo el mundo y la geografía, en efecto, me ha servido de mucho; al\n",
        "primer vistazo podía distinguir perfectamente la China de Arizona. Esto es muy\n",
        "útil, sobre todo si se pierde uno durante la noche.\n",
        "\n",
        "A lo largo de mi vida he tenido multitud de contactos con multitud de gente\n",
        "seria. Viví mucho con personas mayores y las he conocido muy de cerca; pero esto\n",
        "no ha mejorado demasiado mi opinión sobre ellas.\n",
        "\n",
        "Cuando me he encontrado con alguien que me parecía un poco lúcido, lo he\n",
        "sometido a la experiencia de mi dibujo número 1 que he conservado siempre.\n",
        "\n",
        "Quería saber si verdaderamente era un ser comprensivo. E invariablemente me\n",
        "contestaban siempre: «Es un sombrero». Me abstenía de hablarles de la serpiente\n",
        "boa, de la selva virgen y de las estrellas. Poniéndome a su altura, les hablaba del\n",
        "bridge, del golf, de política y de corbatas. Y mi interlocutor se quedaba muy\n",
        "contento de conocer a un hombre tan razonable\"\"\""
      ],
      "metadata": {
        "id": "XXZKNqE83AHZ"
      },
      "execution_count": null,
      "outputs": []
    },
    {
      "cell_type": "code",
      "source": [
        "len(Texto)"
      ],
      "metadata": {
        "id": "coRcjoRX3lUV"
      },
      "execution_count": null,
      "outputs": []
    },
    {
      "cell_type": "code",
      "source": [
        "speech_file_path = Path('content').parent / \"large-text.mp3\"\n",
        "response = client.audio.speech.create(\n",
        "  model='tts-1-hd',\n",
        "  voice=\"fable\",\n",
        "  input=Texto\n",
        ")\n",
        "\n",
        "response.stream_to_file(speech_file_path)"
      ],
      "metadata": {
        "id": "I6T-iXLo3yMF"
      },
      "execution_count": null,
      "outputs": []
    },
    {
      "cell_type": "code",
      "source": [
        "IPython.display.Audio(\"/content/large-text.mp3\")"
      ],
      "metadata": {
        "id": "HUFM7xXR3745"
      },
      "execution_count": null,
      "outputs": []
    }
  ]
}