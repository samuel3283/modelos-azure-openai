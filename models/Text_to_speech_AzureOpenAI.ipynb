{
  "nbformat": 4,
  "nbformat_minor": 0,
  "metadata": {
    "colab": {
      "provenance": [],
      "include_colab_link": true
    },
    "kernelspec": {
      "name": "python3",
      "display_name": "Python 3"
    },
    "language_info": {
      "name": "python"
    }
  },
  "cells": [
    {
      "cell_type": "markdown",
      "metadata": {
        "id": "view-in-github",
        "colab_type": "text"
      },
      "source": [
        "<a href=\"https://colab.research.google.com/github/samuel3283/modelos-azure-openai/blob/main/models/Text_to_speech_AzureOpenAI.ipynb\" target=\"_parent\"><img src=\"https://colab.research.google.com/assets/colab-badge.svg\" alt=\"Open In Colab\"/></a>"                   
      ]
    },
    {
      "cell_type": "markdown",
      "source": [
        "### Instalar libreria de Azure OpenAI"
      ],
      "metadata": {
        "id": "EcP3XPpLXG9R"
      }
    },
    {
      "cell_type": "code",
      "execution_count": null,
      "metadata": {
        "colab": {
          "base_uri": "https://localhost:8080/"
        },
        "id": "csl6huTIlT6H",
        "outputId": "74d55be3-ea50-41c5-bcb3-b0e82717aaed"
      },
      "outputs": [],
      "source": [
        "!!pip install openai\n"
        "!pip install azure-cognitiveservices-speech\n"
      ]
    },
    {
      "cell_type": "markdown",
      "source": [
        "### Importando librerias"
      ],
      "metadata": {
        "id": "x21Pdk3vXQ2o"
      }
    },
    {
      "cell_type": "code",
      "source": [
        "import getpass\n",
        "import os\n",
        "import azure.cognitiveservices.speech as speechsdk\n",
        "from IPython.display import Audio\n",
        "import requests\n",
        "import IPython\n",
        "from openai import AzureOpenAI"
      ],
      "metadata": {
        "id": "SvDDC_jgln_t"
      },
      "execution_count": null,
      "outputs": []
    },
    {
      "cell_type": "code",
      "source": [
        "os.environ[\"AZURE_OPENAI_TTS_API_KEY\"] = getpass.getpass()"
      ],
      "metadata": {
        "colab": {
          "base_uri": "https://localhost:8080/"
        },
        "id": "Aazefo8IWUKQ",
        "outputId": "a5e53352-ce53-422d-94ad-3496db36bab4"
      },
      "execution_count": null,
      "outputs": [
        {
          "name": "stdout",
          "output_type": "stream",
          "text": [
            "··········\n"
          ]
        }
      ]
    },
    {
      "cell_type": "markdown",
      "source": [
        "# Microsoft Azure - OpenAI"
      ],
      "metadata": {
        "id": "Qg2I94sfq7So"
      }
    },
    {
      "cell_type": "code",
      "source": [
        "from openai import AzureOpenAI\n",
        "import azure.cognitiveservices.speech as speechsdk\n",
        "\n",

        "def texto_a_audio(texto, nombre_archivo_salida, speech_key, service_region, idioma='es-ES', voz='es-ES-AlvaroNeural'):\n",
        "    # Configuración del servicio de voz\n",
        "    speech_config = speechsdk.SpeechConfig(subscription=speech_key, region=service_region)\n",
        "    speech_config.speech_synthesis_language = idioma\n",
        "    speech_config.speech_synthesis_voice_name = voz\n",
        "    speech_config.set_speech_synthesis_output_format(\n",
        "        speechsdk.SpeechSynthesisOutputFormat.Audio48Khz192KBitRateMonoMp3\n",
        "    )\n",
        "\n",
        "    # Crear el objeto de síntesis con salida a archivo\n",
        "    file_config = speechsdk.audio.AudioOutputConfig(filename=nombre_archivo_salida)\n",
        "    # Crear el sintetizador\n",
        "    speech_synthesizer = speechsdk.SpeechSynthesizer(speech_config=speech_config, audio_config=file_config)\n",
        "\n",
        "    # Realizar la síntesis\n",
        "    resultado = speech_synthesizer.speak_text_async(texto).get()\n",
        "    # Verificar resultado\n",
        "    if resultado.reason == speechsdk.ResultReason.SynthesizingAudioCompleted:\n",
        "        print(f\"✅ Audio guardado como: {nombre_archivo_salida}\")\n",
        "    elif resultado.reason == speechsdk.ResultReason.Canceled:\n",
        "        cancel_details = resultado.cancellation_details\n",
        "        print(\"❌ Error en la síntesis de voz.\")\n",
        "        print(f\"Razón: {cancel_details.reason}\")\n",
        "        if cancel_details.reason == speechsdk.CancellationReason.Error:\n",
        "            print(f\"Detalles: {cancel_details.error_details}\")\n",
        "\n"
      ],
      "metadata": {
        "id": "_peuxhSerAHh"
      },
      "execution_count": null,
      "outputs": []
    },
    {
      "cell_type": "code",
      "source": [
        "SPEECH_KEY = os.environ[\"AZURE_OPENAI_TTS_API_KEY\"]\n",
        "SPEECH_REGION = \"swedencentral\"\n",
        "texto = \"Hola, este es un ejemplo de síntesis de voz usando Azure\"\n",
        "archivo_salida = \"/content/voz_generada.mp3\"\n",
        "texto_a_audio(texto, archivo_salida, SPEECH_KEY, SPEECH_REGION)\n",
        "IPython.display.Audio(archivo_salida)\n",
        "\n"
      ],
      "metadata": {
        "id": "w3ZGVPuU2DxM"
      },
      "execution_count": null,
      "outputs": []
    },
    {
      "cell_type": "markdown",
      "source": [
        "# Ejemplos"
      ],
      "metadata": {
        "id": "vLLBkBCmdtn6"
      }
    },
    {
      "cell_type": "markdown",
      "metadata": {
        "id": "view-in-github",
        "colab_type": "text"
      },
      "source": [
        "<a href=\"https://learn.microsoft.com/es-es/azure/ai-services/speech-service/language-support?tabs=tts#text-to-speec\" target=\"_blank\">Fuentes</a>\n",
        "##Voces:\n",
        "###es-AR-ElenaNeural (Español Argentina femenina)\n",
        "###es-AR-TomasNeural  (Español Argentina masculina)\n",
        "###es-PE-CamilaNeural  (Español Perú femenina)\n",
        "###es-PE-AlexNeural   (Español Perú masculina)\n",
        "###fr-FR-DeniseNeural   (Frances Francia femenina)\n",
        "###fr-FR-HenriNeural   (Frances Francia masculina)\n"
      ]
    }
  ]
}
